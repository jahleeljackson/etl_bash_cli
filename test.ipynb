{
 "cells": [
  {
   "cell_type": "code",
   "execution_count": 40,
   "metadata": {},
   "outputs": [
    {
     "data": {
      "text/plain": [
       "'Inconsistent dtypes'"
      ]
     },
     "execution_count": 40,
     "metadata": {},
     "output_type": "execute_result"
    }
   ],
   "source": [
    "import numpy as np\n",
    "\n",
    "def first_nonna_val_index(column: list) -> int:\n",
    "    '''Helper to column_type(). Returns first index of non null value.'''\n",
    "    for i in range(len(column)):\n",
    "        if column[i] != None:\n",
    "            return i \n",
    "    return -1\n",
    "\n",
    "\n",
    "def column_type(column: list) -> list:\n",
    "    '''Returns the data type of a column '''\n",
    "    first_nonna = first_nonna_val_index(column)\n",
    "\n",
    "    if first_nonna_val_index == -1:\n",
    "        return \"All null values\"\n",
    "    \n",
    "    #assumming data type from first non null value\n",
    "    assumed_dtype = type(column[first_nonna])\n",
    "\n",
    "    #default answer is assumed data type\n",
    "    res = str(assumed_dtype)\n",
    "\n",
    "    for example in column:\n",
    "        try:\n",
    "            #will continue loop if np.nan, otherwise check if example is a different data type\n",
    "            np.isnan(example)\n",
    "        except:\n",
    "            #will not consider NoneType as different data type\n",
    "            if type(example) == assumed_dtype or example == None:\n",
    "                pass\n",
    "            \n",
    "            #will break loop if example data type does not match assumed\n",
    "            else:\n",
    "                res = \"Inconsistent dtypes\"\n",
    "                break\n",
    "\n",
    "    return res\n",
    "x = [\"foo\", 2, 3, 4]\n",
    "column_type(x)"
   ]
  },
  {
   "cell_type": "code",
   "execution_count": 27,
   "metadata": {},
   "outputs": [
    {
     "data": {
      "text/plain": [
       "True"
      ]
     },
     "execution_count": 27,
     "metadata": {},
     "output_type": "execute_result"
    }
   ],
   "source": [
    "bool(np.isnan(np.nan))"
   ]
  },
  {
   "cell_type": "code",
   "execution_count": null,
   "metadata": {},
   "outputs": [],
   "source": []
  }
 ],
 "metadata": {
  "kernelspec": {
   "display_name": ".venv",
   "language": "python",
   "name": "python3"
  },
  "language_info": {
   "codemirror_mode": {
    "name": "ipython",
    "version": 3
   },
   "file_extension": ".py",
   "mimetype": "text/x-python",
   "name": "python",
   "nbconvert_exporter": "python",
   "pygments_lexer": "ipython3",
   "version": "3.12.10"
  }
 },
 "nbformat": 4,
 "nbformat_minor": 2
}
